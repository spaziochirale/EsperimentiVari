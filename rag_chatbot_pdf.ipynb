{
  "nbformat": 4,
  "nbformat_minor": 0,
  "metadata": {
    "colab": {
      "provenance": [],
      "include_colab_link": true
    },
    "kernelspec": {
      "name": "python3",
      "display_name": "Python 3"
    },
    "language_info": {
      "name": "python"
    }
  },
  "cells": [
    {
      "cell_type": "markdown",
      "metadata": {
        "id": "view-in-github",
        "colab_type": "text"
      },
      "source": [
        "<a href=\"https://colab.research.google.com/github/spaziochirale/EsperimentiVari/blob/main/rag_chatbot_pdf.ipynb\" target=\"_parent\"><img src=\"https://colab.research.google.com/assets/colab-badge.svg\" alt=\"Open In Colab\"/></a>"
      ]
    },
    {
      "cell_type": "markdown",
      "source": [
        "# Prototipo di ChatBot RAG con LangChain e PDF\n",
        "\n",
        "Questo notebook mostra come realizzare un *chatBot* di tipo **RAG** utilizzando il framework **LangChain** e un file PDF come base di conoscenza."
      ],
      "metadata": {
        "id": "xSb_t-bqnMrf"
      }
    },
    {
      "cell_type": "markdown",
      "source": [
        "Per prima cosa installiamo sul server alcuni package Python della piattaforma LangChain e altre librerie necessarie che utilizzeremo nel prototipo."
      ],
      "metadata": {
        "id": "81CAjqFnnh_b"
      }
    },
    {
      "cell_type": "code",
      "execution_count": null,
      "metadata": {
        "id": "X12-HGndcj5v"
      },
      "outputs": [],
      "source": [
        "!pip install -qU langchain langchain_community langchain_chroma pypdf"
      ]
    },
    {
      "cell_type": "markdown",
      "source": [
        "Installiamo il modulo specifico di LangChain che interfaccia le API di OpenAI."
      ],
      "metadata": {
        "id": "YDQGv2NWpfAP"
      }
    },
    {
      "cell_type": "code",
      "source": [
        "!pip install -qU langchain-openai"
      ],
      "metadata": {
        "id": "9odXcskgdjLe"
      },
      "execution_count": null,
      "outputs": []
    },
    {
      "cell_type": "markdown",
      "source": [
        "Impostiamo la chiave API di OpenAI e creiamo l'oggetto `llm`."
      ],
      "metadata": {
        "id": "Y11z0LG1qfp7"
      }
    },
    {
      "cell_type": "code",
      "source": [
        "import os\n",
        "from google.colab import userdata\n",
        "\n",
        "os.environ[\"OPENAI_API_KEY\"] = userdata.get(\"OPENAI_API_KEY\")\n",
        "\n",
        "from langchain_openai import ChatOpenAI\n",
        "\n",
        "llm = ChatOpenAI(model=\"gpt-4o-mini\")"
      ],
      "metadata": {
        "id": "HaQjPajReTIM"
      },
      "execution_count": null,
      "outputs": []
    },
    {
      "cell_type": "markdown",
      "source": [
        "Importiamo le librerie necessarie per il nostro progetto."
      ],
      "metadata": {
        "id": "oADDwAC3r7oH"
      }
    },
    {
      "cell_type": "code",
      "source": [
        "from langchain import hub\n",
        "from langchain_chroma import Chroma\n",
        "from langchain_community.document_loaders import PyPDFLoader\n",
        "from langchain_core.output_parsers import StrOutputParser\n",
        "from langchain_core.runnables import RunnablePassthrough\n",
        "from langchain_openai import OpenAIEmbeddings\n",
        "from langchain_text_splitters import RecursiveCharacterTextSplitter"
      ],
      "metadata": {
        "id": "QdDVr0Acfk5F"
      },
      "execution_count": null,
      "outputs": []
    },
    {
      "cell_type": "markdown",
      "source": [
        "Carichiamo il file PDF. Nota: devi caricare un file PDF su Colab prima di eseguire questa cella."
      ],
      "metadata": {
        "id": "5nRULG7MvBlk"
      }
    },
    {
      "cell_type": "code",
      "source": [
        "from google.colab import files\n",
        "uploaded = files.upload()\n",
        "\n",
        "pdf_file = list(uploaded.keys())[0]  # Prende il nome del primo file caricato\n",
        "loader = PyPDFLoader(pdf_file)\n",
        "docs = loader.load()"
      ],
      "metadata": {
        "id": "kyI-hIfIuxbv"
      },
      "execution_count": null,
      "outputs": []
    },
    {
      "cell_type": "markdown",
      "source": [
        "Dividiamo il contenuto del PDF in chunks e creiamo il database vettoriale."
      ],
      "metadata": {
        "id": "wPHXvQtNvzDo"
      }
    },
    {
      "cell_type": "code",
      "source": [
        "text_splitter = RecursiveCharacterTextSplitter(chunk_size=1000, chunk_overlap=200)\n",
        "splits = text_splitter.split_documents(docs)\n",
        "vectorstore = Chroma.from_documents(documents=splits, embedding=OpenAIEmbeddings())"
      ],
      "metadata": {
        "id": "zDGR1ZCJvpTd"
      },
      "execution_count": null,
      "outputs": []
    },
    {
      "cell_type": "markdown",
      "source": [
        "Creiamo il retriever e carichiamo il prompt template."
      ],
      "metadata": {
        "id": "seUQmPwQx0eF"
      }
    },
    {
      "cell_type": "code",
      "source": [
        "retriever = vectorstore.as_retriever()\n",
        "prompt = hub.pull(\"rlm/rag-prompt\")"
      ],
      "metadata": {
        "id": "u9cefv8qxl5F"
      },
      "execution_count": null,
      "outputs": []
    },
    {
      "cell_type": "markdown",
      "source": [
        "Definiamo una funzione di utilità per formattare i documenti."
      ],
      "metadata": {
        "id": "qmFGhwqazquP"
      }
    },
    {
      "cell_type": "code",
      "source": [
        "def format_docs(docs):\n",
        "    return \"\\n\\n\".join(doc.page_content for doc in docs)"
      ],
      "metadata": {
        "id": "SJh4SC4rzmJ4"
      },
      "execution_count": null,
      "outputs": []
    },
    {
      "cell_type": "markdown",
      "source": [
        "Definiamo la chain RAG."
      ],
      "metadata": {
        "id": "hbBkNx9wz_UJ"
      }
    },
    {
      "cell_type": "code",
      "source": [
        "rag_chain = (\n",
        "    {\"context\": retriever | format_docs, \"question\": RunnablePassthrough()}\n",
        "    | prompt\n",
        "    | llm\n",
        "    | StrOutputParser()\n",
        ")"
      ],
      "metadata": {
        "id": "YKFylSs_z57q"
      },
      "execution_count": null,
      "outputs": []
    },
    {
      "cell_type": "markdown",
      "source": [
        "Ora possiamo utilizzare la chain RAG per porre domande sul contenuto del PDF."
      ],
      "metadata": {
        "id": "74J1v0x_2MWU"
      }
    },
    {
      "cell_type": "code",
      "source": [
        "question = \"Cosa fa il timer di stand-by?\"\n",
        "rag_chain.invoke(question)"
      ],
      "metadata": {
        "id": "_gs_1L2rhuId"
      },
      "execution_count": null,
      "outputs": []
    },
    {
      "cell_type": "code",
      "source": [
        "retriever.invoke(\"Cosa fa il timer di stand-by?\")"
      ],
      "metadata": {
        "id": "XOtGUAuYFUBa"
      },
      "execution_count": null,
      "outputs": []
    }
  ]
}